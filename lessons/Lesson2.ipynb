{
 "cells": [
  {
   "cell_type": "markdown",
   "id": "067847eb",
   "metadata": {},
   "source": [
    "# Lesson 2: Turtles!\n",
    "\n",
    "![Turtle in Minecraft](img/turtles.webp)\n",
    "\n",
    "Unfortunately, not those turtles. When we say we are going to draw something with a turtle, we mean that we are going to tell it where to go, and it will draw something underneath it.\n",
    "\n",
    "First we need to create our turtle at your position. Fly up a few blocks so you are off the ground and run this block:"
   ]
  },
  {
   "cell_type": "code",
   "execution_count": null,
   "id": "ef451f96",
   "metadata": {},
   "outputs": [],
   "source": [
    "from mcpi.minecraft import Minecraft\n",
    "from mcturtle import minecraftturtle\n",
    "\n",
    "mc = Minecraft.create()\n",
    "pos = mc.player.getPos()\n",
    "\n",
    "turtle = minecraftturtle.MinecraftTurtle(mc, pos)"
   ]
  },
  {
   "cell_type": "markdown",
   "id": "9e4d747a",
   "metadata": {},
   "source": [
    "Go ahead and fly around in Minecraft. You should see a diamond block where you were before.\n",
    "\n",
    "Now we want to actually draw something with the turtle. Let's start simple, with a straight line:"
   ]
  },
  {
   "cell_type": "code",
   "execution_count": null,
   "id": "08ff05fc",
   "metadata": {},
   "outputs": [],
   "source": [
    "turtle.forward(10)"
   ]
  },
  {
   "cell_type": "markdown",
   "id": "6839da3e",
   "metadata": {},
   "source": [
    "Without even touching the game, you've drawn a line of blocks!\n",
    "\n",
    "We can get a bit fancier: what about a corner?"
   ]
  },
  {
   "cell_type": "code",
   "execution_count": null,
   "id": "0f26eda8",
   "metadata": {},
   "outputs": [],
   "source": [
    "turtle.forward(5)\n",
    "turtle.left(90)\n",
    "turtle.forward(5)"
   ]
  },
  {
   "cell_type": "markdown",
   "id": "9512ee42",
   "metadata": {},
   "source": [
    "<div class=\"alert alert-block alert-warning\">\n",
    "<b>Watch out:</b> the second `turtle.forward(5)` actually left us with 6 blocks placed! The turtle <em>moves forwards</em> 5 spaces, but there was already a block on the space it started on, so it added 5 blocks to get 6 total.\n",
    "</div>\n",
    "\n",
    "We call these statements: `turtle.forward()`, `turtle.left()`, *functions*. Functions are like telling your friend to do something. You tell them what to do (turn the turtle left, which we say as `turtle.left`), you give them some information, which we put inside the parentheses (90 degrees, or `(90)`), and then they do it.\n",
    "\n",
    "Some more things you can do are:\n",
    " - `turtle.right( # of degrees )` – turn right\n",
    " - `turtle.up( # of degrees )` – turn upwards\n",
    " - `turtle.down( # of degrees)` – turn downwards\n",
    " - `turtle.backward( # of degrees )` – move backwards\n",
    " \n",
    "Maybe try drawing a line at 45 degrees to the right.\n",
    "\n",
    "Try some things in the code block below."
   ]
  },
  {
   "cell_type": "code",
   "execution_count": null,
   "id": "3fd50f4c",
   "metadata": {},
   "outputs": [],
   "source": [
    "\n",
    "\n"
   ]
  },
  {
   "cell_type": "markdown",
   "id": "afaf0a91",
   "metadata": {},
   "source": [
    "In the next lesson you can learn how to make shapes really easily.\n",
    "\n",
    "[Lesson 3 | Don't be Square](./Lesson3.ipynb)"
   ]
  }
 ],
 "metadata": {
  "kernelspec": {
   "display_name": "Python 3 (ipykernel)",
   "language": "python",
   "name": "python3"
  },
  "language_info": {
   "codemirror_mode": {
    "name": "ipython",
    "version": 3
   },
   "file_extension": ".py",
   "mimetype": "text/x-python",
   "name": "python",
   "nbconvert_exporter": "python",
   "pygments_lexer": "ipython3",
   "version": "3.9.13"
  }
 },
 "nbformat": 4,
 "nbformat_minor": 5
}
