{
 "cells": [
  {
   "cell_type": "markdown",
   "id": "9f383777",
   "metadata": {
    "slideshow": {
     "slide_type": "slide"
    }
   },
   "source": [
    "# Lesson 1: Introduction\n",
    "\n",
    "How can we control Minecraft? \n",
    "\n",
    "<style>\n",
    "    .hidden {display: none;}\n",
    "</style>"
   ]
  },
  {
   "cell_type": "markdown",
   "id": "57c3f3bc",
   "metadata": {
    "slideshow": {
     "slide_type": "slide"
    }
   },
   "source": [
    "## How to use Jupyter\n",
    "\n",
    "\"Code cells\" look like this:"
   ]
  },
  {
   "cell_type": "code",
   "execution_count": null,
   "id": "263f4f07",
   "metadata": {
    "slideshow": {
     "slide_type": "fragment"
    }
   },
   "outputs": [],
   "source": [
    "# This is a code cell\n",
    "print(\"This is some code\")"
   ]
  },
  {
   "cell_type": "markdown",
   "id": "f3ec22c5",
   "metadata": {
    "slideshow": {
     "slide_type": "-"
    }
   },
   "source": [
    "The blue-green line is a comment. It doesn't do anything but add a note for you to read.\n",
    "\n",
    "Everything below that is code."
   ]
  },
  {
   "cell_type": "markdown",
   "id": "640f0f97",
   "metadata": {
    "slideshow": {
     "slide_type": "subslide"
    }
   },
   "source": [
    "### Running cells\n",
    "\n",
    "When you write code, it doesn't actually do anything until you run it. Whenever you encounter a code cell in these lessons, you usually have to run the cell at some point.\n",
    "\n",
    "If you click a code cell, then look in the header, there is a `> Run` button that will run the code. \n",
    "\n",
    "![The Run Button](../img/jupyter_run_button.png)"
   ]
  },
  {
   "cell_type": "markdown",
   "id": "80cc19c2",
   "metadata": {
    "slideshow": {
     "slide_type": "fragment"
    }
   },
   "source": [
    "Try that for the cell below:"
   ]
  },
  {
   "cell_type": "code",
   "execution_count": null,
   "id": "a056d2ad",
   "metadata": {
    "scrolled": true,
    "slideshow": {
     "slide_type": "-"
    }
   },
   "outputs": [],
   "source": [
    "print(\"Hello world!\")"
   ]
  },
  {
   "cell_type": "markdown",
   "id": "46ce241e",
   "metadata": {
    "slideshow": {
     "slide_type": "fragment"
    }
   },
   "source": [
    "You can also press `Shift` and `Enter` on the keyboard at the same time to run a cell."
   ]
  },
  {
   "cell_type": "markdown",
   "id": "83a69455",
   "metadata": {
    "slideshow": {
     "slide_type": "slide"
    }
   },
   "source": [
    "## Copy, Paste, Undo\n",
    "\n",
    "You can highlight code by clicking and dragging the mouse over the text."
   ]
  },
  {
   "cell_type": "code",
   "execution_count": null,
   "id": "2c783618",
   "metadata": {
    "slideshow": {
     "slide_type": "fragment"
    }
   },
   "outputs": [],
   "source": [
    "# Try to highlight this"
   ]
  },
  {
   "cell_type": "markdown",
   "id": "79487f9a",
   "metadata": {
    "slideshow": {
     "slide_type": "fragment"
    }
   },
   "source": [
    "Once you've highlighted text, you can delete it all at once or copy it to somewhere else easily."
   ]
  },
  {
   "cell_type": "markdown",
   "id": "36ff332d",
   "metadata": {
    "slideshow": {
     "slide_type": "subslide"
    }
   },
   "source": [
    "### Copy and Paste\n",
    "\n",
    "You can copy text two different ways after you've highlighted it:\n",
    " - right click on the text and select `copy`\n",
    " - use `ctrl`+`C`\n",
    " \n",
    "There are two analogous ways to paste text after you click where you want the text to go:\n",
    " - right click and select `paste`\n",
    " - use `ctrl`+`V`"
   ]
  },
  {
   "cell_type": "code",
   "execution_count": null,
   "id": "05f5fd60",
   "metadata": {
    "slideshow": {
     "slide_type": "fragment"
    }
   },
   "outputs": [],
   "source": [
    "# Copy this text:\n",
    "print(\"Copy Me\")"
   ]
  },
  {
   "cell_type": "code",
   "execution_count": null,
   "id": "62d12873",
   "metadata": {
    "slideshow": {
     "slide_type": "-"
    }
   },
   "outputs": [],
   "source": [
    "# ...and paste it here:\n"
   ]
  },
  {
   "cell_type": "markdown",
   "id": "edc3f334",
   "metadata": {
    "slideshow": {
     "slide_type": "subslide"
    }
   },
   "source": [
    "### Undo\n",
    "\n",
    "If you typed something wrong, or deleted code that you need, or pasted in the wrong place, you can *undo* by pressing `ctrl`+`Z`."
   ]
  },
  {
   "cell_type": "code",
   "execution_count": null,
   "id": "1a8acd5c",
   "metadata": {
    "slideshow": {
     "slide_type": "fragment"
    }
   },
   "outputs": [],
   "source": [
    "# Delete me, and then undo it!"
   ]
  },
  {
   "cell_type": "markdown",
   "id": "5758b223",
   "metadata": {
    "slideshow": {
     "slide_type": "slide"
    }
   },
   "source": [
    "## Setting up Minecraft\n",
    "\n",
    "The Minecraft game will be on the Raspberry Pi desktop when you turn it on. You can start it by double clicking on it.\n",
    "\n",
    "You can do the following, once you've created a world:\n",
    " - move the mouse - look around\n",
    " - `W` - move forwards\n",
    " - `A` - move left\n",
    " - `S` - move backwards\n",
    " - `D` - move right\n",
    " \n",
    " \n",
    " - `left mouse button` - delete a block you are looking at\n",
    " - `right mouse button` - place a block where you are looking\n",
    " \n",
    " \n",
    " - `space` - jump. Press twice quickly to fly\n",
    " - `space` (while flying) - hold to go up, press twice quickly to stop flying\n",
    " - `shift` (while flying) - hold to go down"
   ]
  },
  {
   "cell_type": "markdown",
   "id": "cebf2fc7",
   "metadata": {
    "slideshow": {
     "slide_type": "slide"
    }
   },
   "source": [
    "## Talking to Minecraft\n",
    "\n",
    "Start up Minecraft. It should be on your desktop."
   ]
  },
  {
   "cell_type": "markdown",
   "id": "2d95fa9c",
   "metadata": {
    "slideshow": {
     "slide_type": "fragment"
    }
   },
   "source": [
    "Now run this cell:"
   ]
  },
  {
   "cell_type": "code",
   "execution_count": null,
   "id": "83b31737",
   "metadata": {
    "slideshow": {
     "slide_type": "-"
    }
   },
   "outputs": [],
   "source": [
    "from mcpi.minecraft import Minecraft\n",
    "from mcturtle import minecraftturtle\n",
    "\n",
    "mc = Minecraft.create()"
   ]
  },
  {
   "cell_type": "markdown",
   "id": "06c78a00",
   "metadata": {
    "slideshow": {
     "slide_type": "fragment"
    }
   },
   "source": [
    "This block will be at the top of each file from now on and you have to run it first."
   ]
  },
  {
   "cell_type": "markdown",
   "id": "15d53b5d",
   "metadata": {
    "slideshow": {
     "slide_type": "subslide"
    }
   },
   "source": [
    "Now we can make things happen in the game!"
   ]
  },
  {
   "cell_type": "code",
   "execution_count": null,
   "id": "e2f55bd4",
   "metadata": {
    "slideshow": {
     "slide_type": "fragment"
    }
   },
   "outputs": [],
   "source": [
    "mc.post_to_chat(\"What's up?\")"
   ]
  },
  {
   "cell_type": "markdown",
   "id": "92a8c89c",
   "metadata": {
    "slideshow": {
     "slide_type": "slide"
    }
   },
   "source": [
    "Click to go to...\n",
    "\n",
    "[Lesson 2 | Turtles!](./Lesson2.ipynb)"
   ]
  }
 ],
 "metadata": {
  "celltoolbar": "Raw Cell Format",
  "kernelspec": {
   "display_name": "Python 3 (ipykernel)",
   "language": "python",
   "name": "python3"
  },
  "language_info": {
   "codemirror_mode": {
    "name": "ipython",
    "version": 3
   },
   "file_extension": ".py",
   "mimetype": "text/x-python",
   "name": "python",
   "nbconvert_exporter": "python",
   "pygments_lexer": "ipython3",
   "version": "3.9.13"
  }
 },
 "nbformat": 4,
 "nbformat_minor": 5
}
