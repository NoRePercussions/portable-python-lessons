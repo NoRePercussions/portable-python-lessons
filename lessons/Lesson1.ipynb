{
 "cells": [
  {
   "cell_type": "markdown",
   "id": "9f383777",
   "metadata": {},
   "source": [
    "# Lesson 1: Introduction\n",
    "\n",
    "How can we control Minecraft? "
   ]
  },
  {
   "cell_type": "markdown",
   "id": "a52d4311",
   "metadata": {},
   "source": [
    "## How to play"
   ]
  },
  {
   "cell_type": "markdown",
   "id": "57c3f3bc",
   "metadata": {},
   "source": [
    "## How to use Jupyter\n",
    "\n",
    "\"Code cells\" look like this:"
   ]
  },
  {
   "cell_type": "code",
   "execution_count": null,
   "id": "263f4f07",
   "metadata": {},
   "outputs": [],
   "source": [
    "# This is a code cell\n",
    "print(\"This is some code\")"
   ]
  },
  {
   "cell_type": "markdown",
   "id": "f3ec22c5",
   "metadata": {},
   "source": [
    "The blue-green line is a comment. It doesn't do anything but add a note for you to read.\n",
    "\n",
    "If you click a code cell, then look in the header, there is a `> Run` button that will run the code. Try that for the cell below:"
   ]
  },
  {
   "cell_type": "code",
   "execution_count": null,
   "id": "a056d2ad",
   "metadata": {},
   "outputs": [],
   "source": [
    "print(\"Hello world!\")"
   ]
  },
  {
   "cell_type": "markdown",
   "id": "46ce241e",
   "metadata": {},
   "source": [
    "You can also press `Shift` and `Enter` on the keyboard at the same time to run a cell.\n",
    "\n",
    "Whenever you encounter a code cell in these lessons, you usually have to run the cell at some point."
   ]
  },
  {
   "cell_type": "markdown",
   "id": "83a69455",
   "metadata": {},
   "source": [
    "## Copy-and-Paste\n",
    "\n"
   ]
  },
  {
   "cell_type": "markdown",
   "id": "5758b223",
   "metadata": {},
   "source": [
    "## Setting up Minecraft\n",
    "\n",
    "The Minecraft game will be on the Raspberry Pi desktop when you turn it on. You can start it by double clicking on it.\n",
    "\n",
    "You can do the following, once you've created a world:\n",
    " - move the mouse - look around\n",
    " - `W` - move forwards\n",
    " - `A` - move left\n",
    " - `S` - move backwards\n",
    " - `D` - move right\n",
    " \n",
    " \n",
    " - `left mouse button` - delete a block you are looking at\n",
    " - `right mouse button` - place a block where you are looking\n",
    " \n",
    " \n",
    " - `space` - jump. Press twice quickly to fly\n",
    " - `space` (while flying) - hold to go up, press twice quickly to stop flying\n",
    " - `shift` (while flying) - hold to go down"
   ]
  },
  {
   "cell_type": "markdown",
   "id": "cebf2fc7",
   "metadata": {},
   "source": [
    "## Talking to Minecraft\n",
    "\n",
    "Start up Minecraft, and *then* run the following cell:"
   ]
  },
  {
   "cell_type": "code",
   "execution_count": null,
   "id": "83b31737",
   "metadata": {},
   "outputs": [],
   "source": [
    "from mcpi.minecraft import Minecraft\n",
    "from mcturtle import minecraftturtle\n",
    "\n",
    "mc = Minecraft.create()"
   ]
  },
  {
   "cell_type": "markdown",
   "id": "06c78a00",
   "metadata": {},
   "source": [
    "This block will be at the top of each file from now on and you have to run it first."
   ]
  },
  {
   "cell_type": "markdown",
   "id": "15d53b5d",
   "metadata": {},
   "source": [
    "Now we can make things happen in the game!"
   ]
  },
  {
   "cell_type": "code",
   "execution_count": null,
   "id": "e2f55bd4",
   "metadata": {},
   "outputs": [],
   "source": [
    "mc.post_to_chat(\"What's up?\")"
   ]
  },
  {
   "cell_type": "markdown",
   "id": "92a8c89c",
   "metadata": {},
   "source": [
    "Click to go to...\n",
    "\n",
    "[Lesson 2 | Turtles!](./Lesson2.ipynb)"
   ]
  }
 ],
 "metadata": {
  "kernelspec": {
   "display_name": "Python 3 (ipykernel)",
   "language": "python",
   "name": "python3"
  },
  "language_info": {
   "codemirror_mode": {
    "name": "ipython",
    "version": 3
   },
   "file_extension": ".py",
   "mimetype": "text/x-python",
   "name": "python",
   "nbconvert_exporter": "python",
   "pygments_lexer": "ipython3",
   "version": "3.9.13"
  }
 },
 "nbformat": 4,
 "nbformat_minor": 5
}
