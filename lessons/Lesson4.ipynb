{
 "cells": [
  {
   "cell_type": "code",
   "execution_count": null,
   "id": "fd0f6e8d",
   "metadata": {},
   "outputs": [],
   "source": [
    "from mcpi.minecraft import Minecraft\n",
    "from mcturtle import minecraftturtle\n",
    "\n",
    "mc = Minecraft.create()\n",
    "pos = mc.player.getPos()\n",
    "\n",
    "turtle = minecraftturtle.MinecraftTurtle(mc, pos)"
   ]
  },
  {
   "cell_type": "markdown",
   "id": "1d7bbafb",
   "metadata": {},
   "source": [
    "# Lesson 4: Working in the Third Dimension\n",
    "\n",
    "![The THIRD DIMENSION banner](img/TheThirdDimension.jpg)\n",
    "\n",
    "Now we can draw flat squares, but there's no *depth* to this. We need to be able to build up to build a house or anything else interesting.\n",
    "\n",
    "You've seen this before: In the last lesson I gave you a block of code that moves the turtle up:"
   ]
  },
  {
   "cell_type": "code",
   "execution_count": null,
   "id": "9cab9cef",
   "metadata": {},
   "outputs": [],
   "source": [
    "turtle.sety(turtle.position.y + 5)"
   ]
  },
  {
   "cell_type": "markdown",
   "id": "e9976ad7",
   "metadata": {},
   "source": [
    "Let's break this down so we can see how to use it elsewhere.\n",
    "\n",
    " - `turtle.position` - where the turtle is in the world\n",
    " - `.y` - This asks for the `y` coordinate, equal to how high in the world is the turtle\n",
    " - `turtle.sety` - this sets the y coordinate\n",
    "\n",
    "In the above, we ask for how high the turtle is, shift it up by 5 blocks, and then set the turtle to go to that height.\n",
    "\n",
    "<div class=\"alert alert-block alert-warning\">\n",
    "<b>Watch out:</b> Your code will only work if you've run the code block at the top of this lesson.\n",
    "</div>"
   ]
  },
  {
   "cell_type": "markdown",
   "id": "c161e25a",
   "metadata": {},
   "source": [
    "## A simple box\n",
    "\n",
    "Let's start simple and draw two layers of squares:"
   ]
  },
  {
   "cell_type": "code",
   "execution_count": null,
   "id": "be0a087e",
   "metadata": {},
   "outputs": [],
   "source": [
    "for i in range(4):\n",
    "    turtle.forward(10)\n",
    "    turtle.right(90)\n",
    "\n",
    "turtle.sety(turtle.position.y + 1)\n",
    "\n",
    "for i in range(4):\n",
    "    turtle.forward(10)\n",
    "    turtle.right(90)"
   ]
  },
  {
   "cell_type": "markdown",
   "id": "9ebbe6cc",
   "metadata": {},
   "source": [
    "In the last lesson, you saw how to make a loop. Try to create a loop that describes the process of drawing a square then moving up 5 times. Ask the volunteer helping you if you need help!\n",
    "\n",
    "Here's some helper functions:"
   ]
  },
  {
   "cell_type": "code",
   "execution_count": null,
   "id": "9e205675",
   "metadata": {},
   "outputs": [],
   "source": [
    "def draw_outlined_square(length, width):\n",
    "    # Remember the note in lesson 2: \n",
    "    # we have to move x-1 blocks to \n",
    "    # create a line x blocks long\n",
    "    turtle.forward(length-1)\n",
    "    turtle.right(90)\n",
    "    turtle.forward(width-1)\n",
    "    turtle.right(90)\n",
    "    turtle.forward(length-1)\n",
    "    turtle.right(90)\n",
    "    turtle.forward(width-1)\n",
    "    turtle.right(90)\n",
    "\n",
    "def move_up():\n",
    "    turtle.sety(turtle.position.y + 1)"
   ]
  },
  {
   "cell_type": "markdown",
   "id": "8dfa73f2",
   "metadata": {},
   "source": [
    "Here's a sample usage:"
   ]
  },
  {
   "cell_type": "code",
   "execution_count": null,
   "id": "9ab3b464",
   "metadata": {},
   "outputs": [],
   "source": [
    "draw_outlined_square(3, 3)  # Draw a 3x3 square\n",
    "move_up()"
   ]
  },
  {
   "cell_type": "markdown",
   "id": "a3f566ce",
   "metadata": {},
   "source": [
    "Try using them in this template code to build a box with a loop."
   ]
  },
  {
   "cell_type": "code",
   "execution_count": null,
   "id": "7d63b719",
   "metadata": {},
   "outputs": [],
   "source": [
    "# for each layer\n",
    "for i in range( # put the right number here # ):\n",
    "    \n",
    "    # Draw a square\n",
    "    \n",
    "    # Code to move up one block"
   ]
  },
  {
   "cell_type": "markdown",
   "id": "514af3c9",
   "metadata": {},
   "source": [
    "Once that's done (and it could take you time to figure out), take a few minutes to play around with it. Draw a layer of triangles, or turn the turtle by a few degrees after drawing each square so it makes a spiral going up."
   ]
  },
  {
   "cell_type": "code",
   "execution_count": null,
   "id": "211a0b7f",
   "metadata": {},
   "outputs": [],
   "source": [
    "# Play around here:\n",
    "\n"
   ]
  },
  {
   "cell_type": "markdown",
   "id": "e4d748d6",
   "metadata": {},
   "source": [
    "Finally, here's some code to make a filled-in square."
   ]
  },
  {
   "cell_type": "code",
   "execution_count": null,
   "id": "fcd44753",
   "metadata": {},
   "outputs": [],
   "source": [
    "def draw_filled_square(length, width):\n",
    "    for row in range(width):\n",
    "        turtle.forward(length-1)\n",
    "\n",
    "        turtle.backward(length-1)\n",
    "\n",
    "        turtle.right(90)\n",
    "        turtle.forward(1)\n",
    "        turtle.left(90)\n",
    "        \n",
    "    # Remove the block below the turtle\n",
    "    turtle.left(90)\n",
    "    turtle.forward(1)\n",
    "    turtle.right(90)"
   ]
  },
  {
   "cell_type": "markdown",
   "id": "1c07dcb8",
   "metadata": {},
   "source": [
    "Now we can do `draw_filled_square(11, 11)` to make a floor and a roof for our house. Mess around with that here, or try adding the code to draw a filled-in square before and after the loop you wrote above to make a floor and ceiling."
   ]
  },
  {
   "cell_type": "code",
   "execution_count": null,
   "id": "3c06f6d8",
   "metadata": {},
   "outputs": [],
   "source": [
    "\n",
    "\n",
    "\n",
    "\n"
   ]
  },
  {
   "cell_type": "markdown",
   "id": "fff4be54",
   "metadata": {},
   "source": [
    "In the next lesson, we'll talk about using some different blocks.\n",
    "\n",
    "[Lesson 5 | More Blocks](./Lesson5.ipynb)"
   ]
  }
 ],
 "metadata": {
  "kernelspec": {
   "display_name": "Python 3 (ipykernel)",
   "language": "python",
   "name": "python3"
  },
  "language_info": {
   "codemirror_mode": {
    "name": "ipython",
    "version": 3
   },
   "file_extension": ".py",
   "mimetype": "text/x-python",
   "name": "python",
   "nbconvert_exporter": "python",
   "pygments_lexer": "ipython3",
   "version": "3.9.13"
  }
 },
 "nbformat": 4,
 "nbformat_minor": 5
}
