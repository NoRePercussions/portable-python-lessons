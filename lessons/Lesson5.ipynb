{
 "cells": [
  {
   "cell_type": "code",
   "execution_count": null,
   "id": "8f1dd4a8",
   "metadata": {
    "slideshow": {
     "slide_type": "skip"
    }
   },
   "outputs": [],
   "source": [
    "# Unless you are curious,\n",
    "# it is ok to just run this block\n",
    "# and then scroll past it\n",
    "\n",
    "from mcpi.minecraft import Minecraft\n",
    "from mcpi import block\n",
    "from mcturtle import minecraftturtle\n",
    "\n",
    "mc = Minecraft.create()\n",
    "pos = mc.player.getPos()\n",
    "\n",
    "turtle = minecraftturtle.MinecraftTurtle(mc, pos)\n",
    "\n",
    "### Helper Functions\n",
    "\n",
    "def move_up():\n",
    "    turtle.sety(turtle.position.y + 1)\n",
    "\n",
    "def draw_outlined_square(length, width):\n",
    "    # Remember the note in lesson 2: \n",
    "    # we have to move x-1 blocks to \n",
    "    # create a line x blocks long\n",
    "    turtle.forward(length-1)\n",
    "    turtle.right(90)\n",
    "    turtle.forward(width-1)\n",
    "    turtle.right(90)\n",
    "    turtle.forward(length-1)\n",
    "    turtle.right(90)\n",
    "    turtle.forward(width-1)\n",
    "    turtle.right(90)\n",
    "\n",
    "def draw_filled_square(length, width):\n",
    "    for row in range(width):\n",
    "        turtle.forward(length-1)\n",
    "\n",
    "        turtle.backward(length-1)\n",
    "\n",
    "        turtle.right(90)\n",
    "        turtle.forward(1)\n",
    "        turtle.left(90)\n",
    "        \n",
    "    # Remove the block below the turtle\n",
    "    turtle.left(90)\n",
    "    turtle.forward(1)\n",
    "    turtle.right(90)"
   ]
  },
  {
   "cell_type": "markdown",
   "id": "a4dc5ce8",
   "metadata": {
    "slideshow": {
     "slide_type": "skip"
    }
   },
   "source": [
    "<div class=\"alert alert-block alert-info\">\n",
    "<b>Hey, I've seen that code before!</b>\n",
    "    \n",
    "I've added the helper functions from lesson 4 to the starter block so you can use them in your code here.\n",
    "They are:\n",
    " - `move_up()`\n",
    " - `draw_outlined_square(length, width)`\n",
    " - `draw_filled_square(length, width)`\n",
    "</div>"
   ]
  },
  {
   "cell_type": "markdown",
   "id": "43887805",
   "metadata": {
    "slideshow": {
     "slide_type": "slide"
    }
   },
   "source": [
    "# Lesson 5: More blocks\n",
    "\n",
    "Houses aren't that exciting when they are just an empty box of stone. Let's talk about changing the block type for a minute."
   ]
  },
  {
   "cell_type": "markdown",
   "id": "91852646",
   "metadata": {
    "slideshow": {
     "slide_type": "skip"
    }
   },
   "source": [
    "## A simple example"
   ]
  },
  {
   "cell_type": "markdown",
   "id": "43e6d6dc",
   "metadata": {
    "slideshow": {
     "slide_type": "slide"
    }
   },
   "source": [
    "Often in Minecraft we make houses out of Oak Planks early on. We can set our block to that to pretty up our box a bit, and maybe even make a fancy log ceiling:"
   ]
  },
  {
   "cell_type": "code",
   "execution_count": null,
   "id": "7791cb57",
   "metadata": {
    "slideshow": {
     "slide_type": "fragment"
    }
   },
   "outputs": [],
   "source": [
    "turtle.penblock(block.OAK_WOOD_PLANK.id)\n",
    "\n",
    "draw_filled_square(6, 6)\n",
    "move_up()\n",
    "\n",
    "for i in range(5):\n",
    "    draw_outlined_square(6, 6)\n",
    "    move_up()\n",
    "\n",
    "turtle.penblock(block.OAK_WOOD.id)\n",
    "draw_filled_square(6, 6)\n",
    "\n",
    "# leave some space\n",
    "turtle.penup()\n",
    "move_up()\n",
    "move_up()\n",
    "move_up()\n",
    "turtle.pendown()"
   ]
  },
  {
   "cell_type": "markdown",
   "id": "6eacf7cd",
   "metadata": {
    "slideshow": {
     "slide_type": "subslide"
    }
   },
   "source": [
    "Let's talk about something interesting with loops for a moment. `for i in range(5)` doesn't just mean do something 5 times – it means do something 5 times, *and tell me which time I'm on*. If you had a friend timing you doing laps, you'd want to count which lap you are on. The `for` loop can do that."
   ]
  },
  {
   "cell_type": "markdown",
   "id": "7c1c3679",
   "metadata": {
    "slideshow": {
     "slide_type": "fragment"
    }
   },
   "source": [
    "If we get the value of `i` during the loop, we get a number that tells us which iteration we are on:"
   ]
  },
  {
   "cell_type": "code",
   "execution_count": 3,
   "id": "a12615d1",
   "metadata": {
    "scrolled": true,
    "slideshow": {
     "slide_type": "-"
    }
   },
   "outputs": [
    {
     "name": "stdout",
     "output_type": "stream",
     "text": [
      "I am on iteration 0\n",
      "I am on iteration 1\n",
      "I am on iteration 2\n",
      "I am on iteration 3\n",
      "I am on iteration 4\n"
     ]
    }
   ],
   "source": [
    "for i in range(5):\n",
    "    print(\"I am on iteration\", i)"
   ]
  },
  {
   "cell_type": "markdown",
   "id": "8b530ddf",
   "metadata": {
    "slideshow": {
     "slide_type": "-"
    }
   },
   "source": [
    "<div class=\"alert alert-block alert-info\">\n",
    "<b>Note:</b> the loop does not start at 1! The first iteration of the loop has the number 0. The second has the number 1. The more you play around with loops, the more comfortable you will get with it.\n",
    "</div>"
   ]
  },
  {
   "cell_type": "markdown",
   "id": "f1a6688c",
   "metadata": {
    "slideshow": {
     "slide_type": "subslide"
    }
   },
   "source": [
    "Try changing how many times the loop is printed, change the name of `i` to a different name (it can be any set of letters in a row), or change what text the `print` function outputs:"
   ]
  },
  {
   "cell_type": "code",
   "execution_count": null,
   "id": "1ed29692",
   "metadata": {
    "slideshow": {
     "slide_type": "-"
    }
   },
   "outputs": [],
   "source": [
    "for i in range(5):\n",
    "    print(\"I am on iteration\", i)"
   ]
  },
  {
   "cell_type": "markdown",
   "id": "900ca284",
   "metadata": {
    "slideshow": {
     "slide_type": "slide"
    }
   },
   "source": [
    "Anyways, this lets us do some interesting things. For example, if we wanted to use many colors of wool, we can do that with loops:"
   ]
  },
  {
   "cell_type": "code",
   "execution_count": null,
   "id": "a271603f",
   "metadata": {
    "slideshow": {
     "slide_type": "-"
    }
   },
   "outputs": [],
   "source": [
    "wool_id = block.WOOL_WHITE.id\n",
    "\n",
    "for i in range(10):\n",
    "    turtle.penblock(wool_id, i)\n",
    "    \n",
    "    draw_outlined_square(5, 5)"
   ]
  },
  {
   "cell_type": "markdown",
   "id": "e479f5da",
   "metadata": {
    "slideshow": {
     "slide_type": "fragment"
    }
   },
   "source": [
    "As usual, play around with the code here for a bit."
   ]
  },
  {
   "cell_type": "code",
   "execution_count": null,
   "id": "805a5eb9",
   "metadata": {
    "slideshow": {
     "slide_type": "skip"
    }
   },
   "outputs": [],
   "source": [
    "\n",
    "\n"
   ]
  },
  {
   "cell_type": "markdown",
   "id": "bba9d8a3",
   "metadata": {
    "slideshow": {
     "slide_type": "slide"
    }
   },
   "source": [
    "Loops gave us a way to do something *every time*. Next we will look at how to only do something *sometimes*.\n",
    "\n",
    "[Lesson 6 | What If?](./Lesson6.ipynb)"
   ]
  }
 ],
 "metadata": {
  "kernelspec": {
   "display_name": "Python 3 (ipykernel)",
   "language": "python",
   "name": "python3"
  },
  "language_info": {
   "codemirror_mode": {
    "name": "ipython",
    "version": 3
   },
   "file_extension": ".py",
   "mimetype": "text/x-python",
   "name": "python",
   "nbconvert_exporter": "python",
   "pygments_lexer": "ipython3",
   "version": "3.9.13"
  }
 },
 "nbformat": 4,
 "nbformat_minor": 5
}
