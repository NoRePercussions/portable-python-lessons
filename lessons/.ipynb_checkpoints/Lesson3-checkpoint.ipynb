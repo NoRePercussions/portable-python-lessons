{
 "cells": [
  {
   "cell_type": "markdown",
   "id": "e3799a43",
   "metadata": {},
   "source": [
    "# Lesson 3: Don't be Square\n",
    "\n",
    "So, you think lines are boring. Let's get into actually building things!\n",
    "\n",
    "Buildings are pretty often rectangles. So first we have to be able to draw those.\n",
    "\n",
    "Fly away from the last drawings. We need some more space for these new, fancy shapes."
   ]
  },
  {
   "cell_type": "code",
   "execution_count": null,
   "id": "e5be6db5",
   "metadata": {},
   "outputs": [],
   "source": [
    "from mcpi.minecraft import Minecraft\n",
    "from mcturtle import minecraftturtle\n",
    "\n",
    "mc = Minecraft.create()\n",
    "pos = mc.player.getPos()\n",
    "\n",
    "turtle = minecraftturtle.MinecraftTurtle(mc, pos)"
   ]
  },
  {
   "cell_type": "markdown",
   "id": "7cace933",
   "metadata": {},
   "source": [
    "Start simple. A square is four lines with turns in between. Let's try that:"
   ]
  },
  {
   "cell_type": "code",
   "execution_count": null,
   "id": "caa9dbb6",
   "metadata": {},
   "outputs": [],
   "source": [
    "turtle.forward(10)\n",
    "turtle.left(90)\n",
    "turtle.forward(10)\n",
    "turtle.left(90)\n",
    "turtle.forward(10)\n",
    "turtle.left(90)\n",
    "turtle.forward(10)"
   ]
  },
  {
   "cell_type": "markdown",
   "id": "50092a48",
   "metadata": {},
   "source": [
    "This draws a square! Easy. \n",
    "\n",
    "But think ahead a bit - we want to make a building. That would be at least 3 squares stacked on top of each other, so if we had to run every function on its own, that's a *lot* of code. And then if you want to make the building a triangle, or add a fourth layer, you have to make a *lot* of changes. That's not good!\n",
    "\n",
    "Fortunately, a bunch of wise old programmers thought of this. Just like we have *functions*, which are like telling your friend to do something, we have *loops*, which tell your friend to do something a certain number of times.\n",
    "\n",
    "The following code block will just move the turtle up a bit so it doesn't draw over the square."
   ]
  },
  {
   "cell_type": "code",
   "execution_count": null,
   "id": "1f2f8b4f",
   "metadata": {},
   "outputs": [],
   "source": [
    "turtle.sety(turtlePos.y + 5)"
   ]
  },
  {
   "cell_type": "markdown",
   "id": "517adf82",
   "metadata": {},
   "source": [
    "A square has four sides. For each side, we need to draw the side and then turn in the direction of the next side."
   ]
  },
  {
   "cell_type": "code",
   "execution_count": null,
   "id": "690f441a",
   "metadata": {},
   "outputs": [],
   "source": [
    "for i in range(4):\n",
    "    turtle.forward(10)\n",
    "    turtle.right(90)"
   ]
  },
  {
   "cell_type": "markdown",
   "id": "0a32dca4",
   "metadata": {},
   "source": [
    "`for i in range(4)`"
   ]
  }
 ],
 "metadata": {
  "kernelspec": {
   "display_name": "Python 3 (ipykernel)",
   "language": "python",
   "name": "python3"
  },
  "language_info": {
   "codemirror_mode": {
    "name": "ipython",
    "version": 3
   },
   "file_extension": ".py",
   "mimetype": "text/x-python",
   "name": "python",
   "nbconvert_exporter": "python",
   "pygments_lexer": "ipython3",
   "version": "3.9.13"
  }
 },
 "nbformat": 4,
 "nbformat_minor": 5
}
