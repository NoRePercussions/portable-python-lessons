{
 "cells": [
  {
   "cell_type": "markdown",
   "id": "e3799a43",
   "metadata": {
    "slideshow": {
     "slide_type": "slide"
    }
   },
   "source": [
    "# Lesson 3: Don't be Square\n",
    "\n",
    "So, you think lines are boring. Let's get into actually building things!\n",
    "\n",
    "Buildings are pretty often rectangles. So first we have to be able to draw those."
   ]
  },
  {
   "cell_type": "markdown",
   "id": "126e22ce",
   "metadata": {
    "slideshow": {
     "slide_type": "fragment"
    }
   },
   "source": [
    "Fly away from the last drawings. We need some more space for these new, fancy shapes."
   ]
  },
  {
   "cell_type": "markdown",
   "id": "0afae057",
   "metadata": {
    "slideshow": {
     "slide_type": "subslide"
    }
   },
   "source": [
    "Then, run this code block:"
   ]
  },
  {
   "cell_type": "code",
   "execution_count": null,
   "id": "e5be6db5",
   "metadata": {
    "slideshow": {
     "slide_type": "-"
    }
   },
   "outputs": [],
   "source": [
    "from mcpi.minecraft import Minecraft\n",
    "from mcturtle import minecraftturtle\n",
    "\n",
    "mc = Minecraft.create()\n",
    "pos = mc.player.getPos()\n",
    "\n",
    "turtle = minecraftturtle.MinecraftTurtle(mc, pos)"
   ]
  },
  {
   "cell_type": "markdown",
   "id": "7cace933",
   "metadata": {
    "slideshow": {
     "slide_type": "slide"
    }
   },
   "source": [
    "Start simple. A square is four lines with turns in between. Let's try that:"
   ]
  },
  {
   "cell_type": "code",
   "execution_count": null,
   "id": "caa9dbb6",
   "metadata": {
    "slideshow": {
     "slide_type": "fragment"
    }
   },
   "outputs": [],
   "source": [
    "turtle.forward(10)\n",
    "turtle.left(90)\n",
    "turtle.forward(10)\n",
    "turtle.left(90)\n",
    "turtle.forward(10)\n",
    "turtle.left(90)\n",
    "turtle.forward(10)"
   ]
  },
  {
   "cell_type": "markdown",
   "id": "50092a48",
   "metadata": {
    "slideshow": {
     "slide_type": "subslide"
    }
   },
   "source": [
    "This draws a square! Easy. \n",
    "\n",
    "But think ahead a bit - we want to make a building. That would be at least 3 squares stacked on top of each other, so if we had to run every function on its own, that's a *lot* of code. And then if you want to make the building a triangle, or add a fourth layer, you have to make a *lot* of changes. That's not good!\n",
    "\n",
    "Fortunately, a bunch of wise old programmers thought of this. Just like we have *functions*, which are like telling your friend to do something, we have *loops*, which tell your friend to do something a certain number of times."
   ]
  },
  {
   "cell_type": "markdown",
   "id": "a10ee0f5",
   "metadata": {
    "slideshow": {
     "slide_type": "subslide"
    }
   },
   "source": [
    "The following code block will just move the turtle up a bit so it doesn't draw over the square."
   ]
  },
  {
   "cell_type": "code",
   "execution_count": null,
   "id": "1f2f8b4f",
   "metadata": {
    "slideshow": {
     "slide_type": "-"
    }
   },
   "outputs": [],
   "source": [
    "turtle.sety(turtle.position.y + 5)"
   ]
  },
  {
   "cell_type": "markdown",
   "id": "517adf82",
   "metadata": {
    "slideshow": {
     "slide_type": "subslide"
    }
   },
   "source": [
    "A square has four sides. For each side, we need to draw the side and then turn in the direction of the next side."
   ]
  },
  {
   "cell_type": "markdown",
   "id": "2abfcb31",
   "metadata": {
    "slideshow": {
     "slide_type": "fragment"
    }
   },
   "source": [
    "Here's some `pseudocode` for what we want:"
   ]
  },
  {
   "cell_type": "markdown",
   "id": "626139f4",
   "metadata": {
    "slideshow": {
     "slide_type": "-"
    }
   },
   "source": [
    "```\n",
    "for each side of four sides:\n",
    "    move forward\n",
    "    turn (so we can draw the next side)\n",
    "```"
   ]
  },
  {
   "cell_type": "markdown",
   "id": "3d65cf8f",
   "metadata": {
    "slideshow": {
     "slide_type": "fragment"
    }
   },
   "source": [
    "And some actual code:"
   ]
  },
  {
   "cell_type": "code",
   "execution_count": null,
   "id": "690f441a",
   "metadata": {
    "slideshow": {
     "slide_type": "-"
    }
   },
   "outputs": [],
   "source": [
    "for side in range(4):\n",
    "    turtle.forward(10)\n",
    "    turtle.right(90)"
   ]
  },
  {
   "cell_type": "markdown",
   "id": "0a32dca4",
   "metadata": {
    "slideshow": {
     "slide_type": "-"
    }
   },
   "source": [
    "`for side in range(4)` is a way to say \"do this 4 times\". There's some magic going on there, but we won't get into that until later lessons.\n",
    "\n",
    "Compare it with the pseudocode and try to understand why this works - we draw each side, then turn, then do the same thing for the next side, etc."
   ]
  },
  {
   "cell_type": "markdown",
   "id": "de740526",
   "metadata": {
    "slideshow": {
     "slide_type": "slide"
    }
   },
   "source": [
    "Let's try something else in the cell below. See if you can draw a triangle - it has 3 sides, not 4, and you need to turn by `120` instead of `90` degrees."
   ]
  },
  {
   "cell_type": "code",
   "execution_count": null,
   "id": "72ac8a51",
   "metadata": {},
   "outputs": [],
   "source": [
    "# Edit this code\n",
    "\n",
    "for side in range(4):\n",
    "    turtle.forward(10)\n",
    "    turtle.right(90)"
   ]
  },
  {
   "cell_type": "markdown",
   "id": "be755ae0",
   "metadata": {
    "slideshow": {
     "slide_type": "slide"
    }
   },
   "source": [
    "If you have some extra time, talk with the volunteer next to you and try to draw a pentagon, hexagon, or any other polygons.\n",
    "\n",
    "<div class=\"alert alert-block alert-info\">\n",
    "<b>Tip:</b> If you are drawing an n-sided polygon, you need to turn by 360/n degrees. A square has 4 sides, so we turn 360/4 = <b>90</b> degrees.\n",
    "</div>"
   ]
  },
  {
   "cell_type": "markdown",
   "id": "23fd798b",
   "metadata": {
    "slideshow": {
     "slide_type": "slide"
    }
   },
   "source": [
    "Next, we'll upgrade to drawing in 3D:\n",
    "\n",
    "[Lesson 4 | Working in the Third Dimension](./Lesson4.ipynb)"
   ]
  }
 ],
 "metadata": {
  "kernelspec": {
   "display_name": "Python 3 (ipykernel)",
   "language": "python",
   "name": "python3"
  },
  "language_info": {
   "codemirror_mode": {
    "name": "ipython",
    "version": 3
   },
   "file_extension": ".py",
   "mimetype": "text/x-python",
   "name": "python",
   "nbconvert_exporter": "python",
   "pygments_lexer": "ipython3",
   "version": "3.9.13"
  }
 },
 "nbformat": 4,
 "nbformat_minor": 5
}
