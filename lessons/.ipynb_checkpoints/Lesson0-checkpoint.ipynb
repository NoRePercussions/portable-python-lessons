{
 "cells": [
  {
   "attachments": {},
   "cell_type": "markdown",
   "id": "20ed4ccd",
   "metadata": {},
   "source": [
    "# The RASPBERRY PI\n",
    "\n",
    "The Raspberry Pi has a small keyboard built in. It also has a few ports: here's the most important information:\n",
    "\n",
    "## The SD card\n",
    "<img src=\"attachment:microsd.jpeg\" height=\"200\" align=\"left\"/>\n"
   ]
  }
 ],
 "metadata": {
  "kernelspec": {
   "display_name": "Python 3 (ipykernel)",
   "language": "python",
   "name": "python3"
  },
  "language_info": {
   "codemirror_mode": {
    "name": "ipython",
    "version": 3
   },
   "file_extension": ".py",
   "mimetype": "text/x-python",
   "name": "python",
   "nbconvert_exporter": "python",
   "pygments_lexer": "ipython3",
   "version": "3.9.13"
  }
 },
 "nbformat": 4,
 "nbformat_minor": 5
}
