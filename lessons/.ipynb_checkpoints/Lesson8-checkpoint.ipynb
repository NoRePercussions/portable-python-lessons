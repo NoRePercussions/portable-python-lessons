{
 "cells": [
  {
   "cell_type": "code",
   "execution_count": null,
   "id": "c5bcc81d",
   "metadata": {
    "slideshow": {
     "slide_type": "skip"
    }
   },
   "outputs": [],
   "source": [
    "# Unless you are curious,\n",
    "# it is ok to just run this block\n",
    "# and then scroll past it\n",
    "\n",
    "from mcpi.minecraft import Minecraft\n",
    "from mcpi import block\n",
    "from mcturtle import minecraftturtle\n",
    "\n",
    "mc = Minecraft.create()\n",
    "pos = mc.player.getPos()\n",
    "\n",
    "turtle = minecraftturtle.MinecraftTurtle(mc, pos)\n",
    "\n",
    "### Helper Functions\n",
    "\n",
    "def move_up():\n",
    "    turtle.sety(turtle.position.y + 1)\n",
    "\n",
    "def draw_outlined_square(length, width):\n",
    "    # Remember the note in lesson 2: \n",
    "    # we have to move x-1 blocks to \n",
    "    # create a line x blocks long\n",
    "    turtle.forward(length-1)\n",
    "    turtle.right(90)\n",
    "    turtle.forward(width-1)\n",
    "    turtle.right(90)\n",
    "    turtle.forward(length-1)\n",
    "    turtle.right(90)\n",
    "    turtle.forward(width-1)\n",
    "    turtle.right(90)\n",
    "\n",
    "def draw_filled_square(length, width):\n",
    "    for row in range(width):\n",
    "        turtle.forward(length-1)\n",
    "\n",
    "        turtle.backward(length-1)\n",
    "\n",
    "        turtle.right(90)\n",
    "        turtle.forward(1)\n",
    "        turtle.left(90)\n",
    "        \n",
    "    # Remove the block below the turtle\n",
    "    turtle.left(90)\n",
    "    turtle.forward(1)\n",
    "    turtle.right(90)\n",
    "    \n",
    "def draw_spaced_line(length, num_filled, num_empty):\n",
    "    num_total = num_filled + num_empty\n",
    "    \n",
    "    for i in range(length):\n",
    "        if i % num_total < num_filled:\n",
    "            turtle.pendown()\n",
    "        else:\n",
    "            turtle.penup()\n",
    "\n",
    "        turtle.forward(1)\n",
    "        \n",
    "def draw_line_with_hole(length, hole_position):\n",
    "    # This isn't the only way to do this\n",
    "    # but I think it is the most clear\n",
    "    \n",
    "    for i in range(length):\n",
    "        if i == hole_position:\n",
    "            turtle.penup()\n",
    "        else:\n",
    "            turtle.pendown()\n",
    "        \n",
    "        turtle.forward(1)"
   ]
  },
  {
   "cell_type": "markdown",
   "id": "658ad701",
   "metadata": {
    "slideshow": {
     "slide_type": "slide"
    }
   },
   "source": [
    "# Lesson 8: Putting it all together.\n",
    "\n",
    "Alright, you've learned a lot. I've put all our helper functions above, plus one:\n",
    " - `move_up()`\n",
    " - `draw_outlined_square(length, width)`\n",
    " - `draw_filled_square(length, width)`\n",
    " - `draw_spaced_line(length, num_filled, num_empty)`\n",
    " - `draw_line_with_hole(length, hole_position)`"
   ]
  },
  {
   "cell_type": "markdown",
   "id": "41f82acc",
   "metadata": {
    "slideshow": {
     "slide_type": "subslide"
    }
   },
   "source": [
    "Let's sketch out what we want the house to look like. I've put a template below, but you can talk to the volunteer with you and change it up!"
   ]
  },
  {
   "cell_type": "code",
   "execution_count": null,
   "id": "61cb3742",
   "metadata": {
    "slideshow": {
     "slide_type": "fragment"
    }
   },
   "outputs": [],
   "source": [
    "# Filled layer: Oak Log roof\n",
    "# Outline layer of planks with window spaces\n",
    "# Outline layer of planks\n",
    "# Outline layer of planks with a door (the front line has a hole in it)\n",
    "# Outline layer of planks with a door (the front line has a hole in it)\n",
    "# Filled layer: Cobblestone floor"
   ]
  },
  {
   "cell_type": "markdown",
   "id": "109fda9f",
   "metadata": {
    "slideshow": {
     "slide_type": "subslide"
    }
   },
   "source": [
    "To make a layer with a door:\n",
    " - the front line has a hole in it\n",
    " - the sides and back have no holes"
   ]
  },
  {
   "cell_type": "code",
   "execution_count": null,
   "id": "5768350c",
   "metadata": {
    "slideshow": {
     "slide_type": "fragment"
    }
   },
   "outputs": [],
   "source": [
    "def draw_door_layer(length, width, hole_position):\n",
    "    draw_line_with_hole(length-1, hole_position)\n",
    "    turtle.right(90)\n",
    "    turtle.forward(width-1)\n",
    "    turtle.right(90)\n",
    "    turtle.forward(length-1)\n",
    "    turtle.right(90)\n",
    "    turtle.forward(width-1)\n",
    "    turtle.right(90)"
   ]
  },
  {
   "cell_type": "markdown",
   "id": "a13a267b",
   "metadata": {
    "slideshow": {
     "slide_type": "subslide"
    }
   },
   "source": [
    "Try to do something similar for the following:"
   ]
  },
  {
   "cell_type": "code",
   "execution_count": null,
   "id": "1186e1f9",
   "metadata": {
    "slideshow": {
     "slide_type": "-"
    }
   },
   "outputs": [],
   "source": [
    "def draw_window_layer(length, width, num_filled, num_empty):\n",
    "    # draw the lines here"
   ]
  },
  {
   "cell_type": "markdown",
   "id": "db79e871",
   "metadata": {
    "slideshow": {
     "slide_type": "skip"
    }
   },
   "source": [
    "## Writing the code"
   ]
  },
  {
   "cell_type": "markdown",
   "id": "e4b89206",
   "metadata": {
    "slideshow": {
     "slide_type": "slide"
    }
   },
   "source": [
    " - `move_up()`\n",
    " - `draw_outlined_square(length, width)`\n",
    " - `draw_filled_square(length, width)`\n",
    " - `draw_door_layer(length, width, hole_position)`\n",
    " - `draw_window_layer(length, width, num_filled, num_empty)`\n",
    "\n",
    "Try to turn the outline into a set of functions.  Each comment is one step you should do - each should correspond to one line of code.\n",
    "\n",
    "Talk with the volunteer with you and try to get it working! You will have to make some choices about the length, width, where to put the doors, and how the window layers should be set up."
   ]
  },
  {
   "cell_type": "code",
   "execution_count": null,
   "id": "860f6f37",
   "metadata": {
    "slideshow": {
     "slide_type": "subslide"
    }
   },
   "outputs": [],
   "source": [
    "length = # pick a house length\n",
    "width = # pick a house width\n",
    "\n",
    "# set the block type to cobblestone for the floor\n",
    "\n",
    "# make the filled floor layer\n",
    "\n",
    "move_up()\n",
    "\n",
    "# set the block type to planks for the walls\n",
    "\n",
    "# make a door layer\n",
    "\n",
    "move_up()\n",
    "\n",
    "# make a door layer\n",
    "\n",
    "move_up()\n",
    "\n",
    "# make a outline layer\n",
    "\n",
    "move_up()\n",
    "\n",
    "# make a window layer\n",
    "\n",
    "move_up()\n",
    "\n",
    "# set the block to oak wood for the roof\n",
    "\n",
    "# make a filled roof layer"
   ]
  },
  {
   "cell_type": "markdown",
   "id": "6029ac30",
   "metadata": {
    "slideshow": {
     "slide_type": "slide"
    }
   },
   "source": [
    "**With that,** you've built a house with code! It took some time, but you've figured it out. Now you know a bit more about Python.\n",
    "\n",
    "This isn't the last lesson here, though - I've added several that talk more about features of Python and things you can do with it. If you are curious, I would go through them.\n",
    "\n",
    "[Table of Contents](../TableOfContents.ipynb)"
   ]
  }
 ],
 "metadata": {
  "kernelspec": {
   "display_name": "Python 3 (ipykernel)",
   "language": "python",
   "name": "python3"
  },
  "language_info": {
   "codemirror_mode": {
    "name": "ipython",
    "version": 3
   },
   "file_extension": ".py",
   "mimetype": "text/x-python",
   "name": "python",
   "nbconvert_exporter": "python",
   "pygments_lexer": "ipython3",
   "version": "3.9.13"
  }
 },
 "nbformat": 4,
 "nbformat_minor": 5
}
