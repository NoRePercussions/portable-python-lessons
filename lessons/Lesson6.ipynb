{
 "cells": [
  {
   "cell_type": "code",
   "execution_count": null,
   "id": "0ffe155d",
   "metadata": {
    "slideshow": {
     "slide_type": "skip"
    }
   },
   "outputs": [],
   "source": [
    "# Unless you are curious,\n",
    "# it is ok to just run this block\n",
    "# and then scroll past it\n",
    "\n",
    "from mcpi.minecraft import Minecraft\n",
    "from mcpi import block\n",
    "from mcturtle import minecraftturtle\n",
    "\n",
    "mc = Minecraft.create()\n",
    "pos = mc.player.getPos()\n",
    "\n",
    "turtle = minecraftturtle.MinecraftTurtle(mc, pos)\n",
    "\n",
    "### Helper Functions\n",
    "\n",
    "def move_up():\n",
    "    turtle.sety(turtle.position.y + 1)\n",
    "\n",
    "def draw_outlined_square(length, width):\n",
    "    # Remember the note in lesson 2: \n",
    "    # we have to move x-1 blocks to \n",
    "    # create a line x blocks long\n",
    "    turtle.forward(length-1)\n",
    "    turtle.right(90)\n",
    "    turtle.forward(width-1)\n",
    "    turtle.right(90)\n",
    "    turtle.forward(length-1)\n",
    "    turtle.right(90)\n",
    "    turtle.forward(width-1)\n",
    "    turtle.right(90)"
   ]
  },
  {
   "cell_type": "markdown",
   "id": "afd033f8",
   "metadata": {
    "slideshow": {
     "slide_type": "slide"
    }
   },
   "source": [
    "# What If?\n",
    "\n",
    "Our box is still only a box. Let's talk about another way to control what the program does - `if` statements. "
   ]
  },
  {
   "cell_type": "code",
   "execution_count": null,
   "id": "623949e0",
   "metadata": {
    "slideshow": {
     "slide_type": "subslide"
    }
   },
   "outputs": [],
   "source": [
    "x = 3\n",
    "\n",
    "if x == 3:\n",
    "    print(\"Hello world!\")"
   ]
  },
  {
   "cell_type": "markdown",
   "id": "992e3ed6",
   "metadata": {
    "slideshow": {
     "slide_type": "-"
    }
   },
   "source": [
    "Let's break this down. \n",
    "\n",
    " - `x = 3` - we say that \"x\" is equal to 3\n",
    " - `if x == 3` - check if x is equal to 3. Here it is, so we run the print statement\n",
    "\n",
    "Finally, if the condition is met, we say \"Hello world\".\n",
    "\n",
    "**Play around with that!** Change the number, change what `x` is named, print something else. Try to get comfortable with that statement."
   ]
  },
  {
   "cell_type": "markdown",
   "id": "fc31ad44",
   "metadata": {
    "slideshow": {
     "slide_type": "slide"
    }
   },
   "source": [
    "## Comparison\n",
    "\n",
    "We can use `<` and `>` to figure out if a variable is *less than* or *greater than* a number. We can also use `<=` and `>=` for *less than or equal to* and *greater than or equal to*."
   ]
  },
  {
   "cell_type": "code",
   "execution_count": null,
   "id": "c34c3807",
   "metadata": {
    "slideshow": {
     "slide_type": "-"
    }
   },
   "outputs": [],
   "source": [
    "x = 7\n",
    "\n",
    "if x < 10:\n",
    "    print(\"x is small\")"
   ]
  },
  {
   "cell_type": "markdown",
   "id": "9b4df8d8",
   "metadata": {
    "slideshow": {
     "slide_type": "subslide"
    }
   },
   "source": [
    "Let's try to make two layers - a base of logs and a top of wood. We start at 0, so Layer 0, 1, and 2 will be logs, and layers 3, 4, and 5 will be planks."
   ]
  },
  {
   "cell_type": "markdown",
   "id": "50205d8f",
   "metadata": {
    "slideshow": {
     "slide_type": "fragment"
    }
   },
   "source": [
    "I'm going to call the loop variable `layer`, as it represent which layer we are building."
   ]
  },
  {
   "cell_type": "code",
   "execution_count": null,
   "id": "608e86f7",
   "metadata": {
    "slideshow": {
     "slide_type": "-"
    }
   },
   "outputs": [],
   "source": [
    "for layer in range(6):\n",
    "    if layer < 3:\n",
    "        turtle.penblock(block.OAK_WOOD_PLANK.id)\n",
    "    if layer >= 3:\n",
    "        turtle.penblock(block.OAK_WOOD.id)\n",
    "    \n",
    "    draw_outlined_square(6, 6)\n",
    "    \n",
    "    move_up()"
   ]
  },
  {
   "cell_type": "markdown",
   "id": "1797663f",
   "metadata": {
    "slideshow": {
     "slide_type": "slide"
    }
   },
   "source": [
    "## What Else?\n",
    "\n",
    "Sometimes we want to test two conditions. What if we want the first layer to be wood, the second to be planks, and the third to be leaves?\n",
    "\n",
    "We have the `Else` and `Elif` statements to make our lives easier."
   ]
  },
  {
   "cell_type": "markdown",
   "id": "463a98ba",
   "metadata": {
    "slideshow": {
     "slide_type": "subslide"
    }
   },
   "source": [
    "Let's talk through this block:"
   ]
  },
  {
   "cell_type": "code",
   "execution_count": null,
   "id": "73c851e2",
   "metadata": {
    "slideshow": {
     "slide_type": "-"
    }
   },
   "outputs": [],
   "source": [
    "def test(x):\n",
    "    if x < 3:\n",
    "        print(\"First condition - x is\", x)\n",
    "    elif x < 7:\n",
    "        print(\"Second condition - x is\", x)\n",
    "    else:\n",
    "        print(\"Third condition - x is\", x)"
   ]
  },
  {
   "cell_type": "markdown",
   "id": "f38fa39b",
   "metadata": {
    "slideshow": {
     "slide_type": "-"
    }
   },
   "source": [
    "For convenience, this is a function. You will see why below."
   ]
  },
  {
   "cell_type": "code",
   "execution_count": null,
   "id": "56abced6",
   "metadata": {
    "slideshow": {
     "slide_type": "subslide"
    },
    "tags": [
     "presentation"
    ]
   },
   "outputs": [],
   "source": [
    "def test(x):\n",
    "    if x < 3:\n",
    "        print(\"First condition - x is\", x)\n",
    "    elif x < 7:\n",
    "        print(\"Second condition - x is\", x)\n",
    "    else:\n",
    "        print(\"Third condition - x is\", x)"
   ]
  },
  {
   "cell_type": "code",
   "execution_count": null,
   "id": "98d23e47",
   "metadata": {
    "slideshow": {
     "slide_type": "-"
    }
   },
   "outputs": [],
   "source": [
    "test(7)"
   ]
  },
  {
   "cell_type": "markdown",
   "id": "66757357",
   "metadata": {
    "slideshow": {
     "slide_type": "fragment"
    }
   },
   "source": [
    "When we test 7:\n",
    "1. `if x < 3` 7 is not less than 3. Next.\n",
    "2. `elif x < 7` 7 is not less than 7. Next.\n",
    "3. `else` Neither of the above worked, so we run this block."
   ]
  },
  {
   "cell_type": "code",
   "execution_count": null,
   "id": "85ae6370",
   "metadata": {
    "slideshow": {
     "slide_type": "subslide"
    },
    "tags": [
     "presentation"
    ]
   },
   "outputs": [],
   "source": [
    "def test(x):\n",
    "    if x < 3:\n",
    "        print(\"First condition - x is\", x)\n",
    "    elif x < 7:\n",
    "        print(\"Second condition - x is\", x)\n",
    "    else:\n",
    "        print(\"Third condition - x is\", x)"
   ]
  },
  {
   "cell_type": "code",
   "execution_count": null,
   "id": "c1cd183f",
   "metadata": {
    "slideshow": {
     "slide_type": "-"
    }
   },
   "outputs": [],
   "source": [
    "test(2)"
   ]
  },
  {
   "cell_type": "markdown",
   "id": "d6d770ec",
   "metadata": {
    "slideshow": {
     "slide_type": "fragment"
    }
   },
   "source": [
    "When we test 2:\n",
    "1. `if x < 3` 2 is less than 3, so we run this block.\n",
    "2. The last block worked, so we don't run any more blocks."
   ]
  },
  {
   "cell_type": "code",
   "execution_count": null,
   "id": "fd5cfa73",
   "metadata": {
    "slideshow": {
     "slide_type": "subslide"
    },
    "tags": [
     "presentation"
    ]
   },
   "outputs": [],
   "source": [
    "def test(x):\n",
    "    if x < 3:\n",
    "        print(\"First condition - x is\", x)\n",
    "    elif x < 7:\n",
    "        print(\"Second condition - x is\", x)\n",
    "    else:\n",
    "        print(\"Third condition - x is\", x)"
   ]
  },
  {
   "cell_type": "code",
   "execution_count": null,
   "id": "917cc29a",
   "metadata": {
    "slideshow": {
     "slide_type": "-"
    }
   },
   "outputs": [],
   "source": [
    "test(3)"
   ]
  },
  {
   "cell_type": "markdown",
   "id": "f38713ac",
   "metadata": {
    "slideshow": {
     "slide_type": "fragment"
    }
   },
   "source": [
    "When we test 3:\n",
    "1. `if x < 3` 3 is not less than 3. Next.\n",
    "2. `elif x < 7` 3 is less than 7, so we run this block.\n",
    "3. `else` The last block worked, so we don't run any more blocks."
   ]
  },
  {
   "cell_type": "markdown",
   "id": "d71a97fc",
   "metadata": {
    "slideshow": {
     "slide_type": "slide"
    }
   },
   "source": [
    "Now that you know that, we can start to put everything together into a house.\n",
    "\n",
    "[Lesson 7 | It All Adds Up](./Lesson7.ipynb)"
   ]
  }
 ],
 "metadata": {
  "kernelspec": {
   "display_name": "Python 3 (ipykernel)",
   "language": "python",
   "name": "python3"
  },
  "language_info": {
   "codemirror_mode": {
    "name": "ipython",
    "version": 3
   },
   "file_extension": ".py",
   "mimetype": "text/x-python",
   "name": "python",
   "nbconvert_exporter": "python",
   "pygments_lexer": "ipython3",
   "version": "3.9.13"
  }
 },
 "nbformat": 4,
 "nbformat_minor": 5
}
