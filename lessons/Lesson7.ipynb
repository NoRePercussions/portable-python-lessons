{
 "cells": [
  {
   "cell_type": "code",
   "execution_count": null,
   "id": "80ef0d62",
   "metadata": {},
   "outputs": [],
   "source": [
    "from mcpi.minecraft import Minecraft\n",
    "from mcturtle import minecraftturtle\n",
    "\n",
    "mc = Minecraft.create()\n",
    "pos = mc.player.getPos()\n",
    "\n",
    "turtle = minecraftturtle.MinecraftTurtle(mc, pos)"
   ]
  },
  {
   "cell_type": "markdown",
   "id": "19d7bdb7",
   "metadata": {},
   "source": [
    "# Lesson 6: It All Adds Up\n",
    "\n",
    "We have to do a bit of arithmetic to do more cool things. Fortunately, we can make the computer do the hard work for us.\n",
    "\n",
    "Arithmetic mostly uses intuitive symbols:"
   ]
  },
  {
   "cell_type": "code",
   "execution_count": null,
   "id": "c31ff103",
   "metadata": {
    "scrolled": false
   },
   "outputs": [],
   "source": [
    "2 + 3"
   ]
  },
  {
   "cell_type": "code",
   "execution_count": null,
   "id": "5543382c",
   "metadata": {},
   "outputs": [],
   "source": [
    "3 / 6"
   ]
  },
  {
   "cell_type": "code",
   "execution_count": null,
   "id": "3053f968",
   "metadata": {},
   "outputs": [],
   "source": [
    "4 - 10"
   ]
  },
  {
   "cell_type": "markdown",
   "id": "c0a4d062",
   "metadata": {},
   "source": [
    "The only weird thing is that to multiply, we use `*`:"
   ]
  },
  {
   "cell_type": "code",
   "execution_count": null,
   "id": "289db736",
   "metadata": {},
   "outputs": [],
   "source": [
    "3 * 5"
   ]
  },
  {
   "cell_type": "markdown",
   "id": "0d759669",
   "metadata": {},
   "source": [
    "There's one operator you probably haven't seen before, but you've used it – the *modulo* operator. For positive numbers, `x modulo y` is the same as taking the remainder when you divide `x` by `y`.\n",
    "\n",
    "Take `7 modulo 3`. 7 divided by 3 is 2 with a remainder of 1 (`7/3 = 2 R1`). 1 is our result. \n",
    "\n",
    "In Python, we use `%` to mean modulo. Play around with that, and get some intuition for how it works:"
   ]
  },
  {
   "cell_type": "code",
   "execution_count": null,
   "id": "44f60519",
   "metadata": {},
   "outputs": [],
   "source": [
    "7 % 3"
   ]
  },
  {
   "cell_type": "markdown",
   "id": "eddc74ad",
   "metadata": {},
   "source": [
    "Let's make an important observation. Here is a table of values:\n",
    "\n",
    "| x | x % 3 |\n",
    "| --- | --- |\n",
    "| 0 | 0 |\n",
    "| 1 | 1 |\n",
    "| 2 | 2 |\n",
    "| 3 | 0 |\n",
    "| 4 | 1 |\n",
    "| 5 | 2 |\n",
    "| 6 | 0 |\n",
    "| 7 | 1 |\n",
    "\n",
    "Every time `x` is divisible by 3, the modulo is 0."
   ]
  },
  {
   "cell_type": "code",
   "execution_count": 1,
   "id": "5d0da727",
   "metadata": {
    "scrolled": true
   },
   "outputs": [
    {
     "name": "stdout",
     "output_type": "stream",
     "text": [
      "0 -> 0\n",
      "1 -> 1\n",
      "2 -> 2\n",
      "3 -> 0\n",
      "4 -> 1\n",
      "5 -> 2\n",
      "6 -> 0\n"
     ]
    }
   ],
   "source": [
    "# Try changing this code!\n",
    "for i in range(7):\n",
    "    print(i, '->', i % 3)"
   ]
  },
  {
   "cell_type": "markdown",
   "id": "21be714e",
   "metadata": {},
   "source": [
    "## Where might we use this?\n",
    "\n",
    "Let's think about if we wanted to draw a wall with windows in it. Let's work through the process and make a function to place a line where, for every four blocks, only the first two are filled in.\n",
    "\n",
    "```\n",
    "XX|XX|  |  \n",
    "\n",
    "XX|XX|  |  |XX|XX|  |  |XX|XX|  |  |XX|XX|  |  \n",
    "```\n",
    "\n",
    "# image here\n",
    "\n",
    "First, the naïve solution below: just write it out. Note the `penup` and `pendown` - if the pen is up, the turtle won't draw, and if it is down, it will."
   ]
  },
  {
   "cell_type": "code",
   "execution_count": null,
   "id": "6bb2e321",
   "metadata": {},
   "outputs": [],
   "source": [
    "turtle.pendown()\n",
    "turtle.forward(2)\n",
    "turtle.penup()\n",
    "turtle.forward(2)"
   ]
  },
  {
   "cell_type": "markdown",
   "id": "69cb455e",
   "metadata": {},
   "source": [
    "If we put in larger numbers, that would get very long. We move four times, so let's see if we can write some pseudocode "
   ]
  },
  {
   "cell_type": "code",
   "execution_count": null,
   "id": "21d0e87e",
   "metadata": {},
   "outputs": [],
   "source": [
    "# some number of times:\n",
    "    # if it is the first two times of four, put the pen down\n",
    "    # if it is the last two times of four, pick the pen up\n",
    "    \n",
    "    # move forwards"
   ]
  },
  {
   "cell_type": "markdown",
   "id": "51825e61",
   "metadata": {},
   "source": [
    "We can look at `i` mod 4:\n",
    "```\n",
    "0 -> 0\n",
    "1 -> 1\n",
    "2 -> 2\n",
    "3 -> 3\n",
    "4 -> 0\n",
    "5 -> 1\n",
    "```\n",
    "\n",
    "Following the pattern we used in the last lesson:"
   ]
  },
  {
   "cell_type": "code",
   "execution_count": null,
   "id": "c7c3ae6f",
   "metadata": {},
   "outputs": [],
   "source": [
    "for i in range( put a number here ):\n",
    "    if i % 4 < 2:\n",
    "        turtle.pendown()\n",
    "    else:\n",
    "        turtle.penup()\n",
    "        \n",
    "    turtle.forward(1)"
   ]
  },
  {
   "cell_type": "markdown",
   "id": "289ed6ac",
   "metadata": {},
   "source": [
    "This would be helpful for building our house, but it would be inconvenient to add in. Let's think about what would make it a good function."
   ]
  },
  {
   "cell_type": "code",
   "execution_count": null,
   "id": "b864a527",
   "metadata": {},
   "outputs": [],
   "source": [
    "def draw_spaced_line():\n",
    "    for i in range(4):\n",
    "        if i % 4 < 2:\n",
    "            turtle.pendown()\n",
    "        else:\n",
    "            turtle.penup()\n",
    "\n",
    "        turtle.forward(1)"
   ]
  },
  {
   "cell_type": "markdown",
   "id": "3b86cc4f",
   "metadata": {},
   "source": [
    "This will just draw a line of length four with the first two blocks filled in. That helps a bit, but is not very convenient yet. What if we want a line of length 5? We can easily control the line length by changing the loop variable, so let's add that to the function definition:"
   ]
  },
  {
   "cell_type": "code",
   "execution_count": null,
   "id": "402639e8",
   "metadata": {},
   "outputs": [],
   "source": [
    "def draw_spaced_line(length):\n",
    "    for i in range(length):\n",
    "        if i % 4 < 2:\n",
    "            turtle.pendown()\n",
    "        else:\n",
    "            turtle.penup()\n",
    "\n",
    "        turtle.forward(1)"
   ]
  },
  {
   "cell_type": "markdown",
   "id": "a2b0e139",
   "metadata": {},
   "source": [
    "Now we can do `draw_spaced_line(5)` to get a line of length 5.\n",
    "\n",
    "Hold on, what if we want to make windows that are 3 blocks long later? Let's look at how the numbers in the code relate to how many blocks are filled in or not.\n",
    "\n",
    "Right now we fill in 2 blocks and leave 2 blocks empty. That makes 4 blocks total. The 4 gives us our modulus - the part of `i % 4` - because we repeat the pattern every 4 blocks. The two blocks we fill in gives us the `< 2`. Then, to change it to 2 filled and 3 empty, we'd change those to `i % 5` and keep `< 2`.\n",
    "\n",
    "We can add `num_filled` and `num_empty` to our function definition, and then take modulo the sum of the two:"
   ]
  },
  {
   "cell_type": "code",
   "execution_count": null,
   "id": "acbd95a1",
   "metadata": {},
   "outputs": [],
   "source": [
    "def draw_spaced_line(length, num_filled, num_empty):\n",
    "    num_total = num_filled + num_empty\n",
    "    \n",
    "    for i in range(length):\n",
    "        if i % num_total < num_filled:\n",
    "            turtle.pendown()\n",
    "        else:\n",
    "            turtle.penup()\n",
    "\n",
    "        turtle.forward(1)"
   ]
  },
  {
   "cell_type": "markdown",
   "id": "591cdf26",
   "metadata": {},
   "source": [
    "Alright, that looks a lot more complicated. But see how easily we can use it:\n",
    "\n",
    " - `draw_spaced_line(10, 2, 2)` draws a line of length 10 with two fille,. following by two empty, etc.\n",
    " - `draw_spaced_line(20, 3, 1)` draws a line of length 20 with three filled, following by one empty, etc.\n",
    "\n",
    "Play around with the numbers in the line below and watch what happens in Minecraft:"
   ]
  },
  {
   "cell_type": "code",
   "execution_count": null,
   "id": "dc820378",
   "metadata": {},
   "outputs": [],
   "source": [
    "draw_spaced_line(10, 2, 2)"
   ]
  },
  {
   "cell_type": "markdown",
   "id": "da2d9595",
   "metadata": {},
   "source": [
    "Ok, that was a lot. Good job for getting through that! Play around with anything you'd like if you need some more time with it."
   ]
  },
  {
   "cell_type": "code",
   "execution_count": null,
   "id": "872eb86b",
   "metadata": {},
   "outputs": [],
   "source": []
  },
  {
   "cell_type": "markdown",
   "id": "333f2b1c",
   "metadata": {},
   "source": [
    "[Lesson 8 | Putting it All Together](./Lesson8.ipynb)"
   ]
  }
 ],
 "metadata": {
  "kernelspec": {
   "display_name": "Python 3 (ipykernel)",
   "language": "python",
   "name": "python3"
  },
  "language_info": {
   "codemirror_mode": {
    "name": "ipython",
    "version": 3
   },
   "file_extension": ".py",
   "mimetype": "text/x-python",
   "name": "python",
   "nbconvert_exporter": "python",
   "pygments_lexer": "ipython3",
   "version": "3.9.13"
  }
 },
 "nbformat": 4,
 "nbformat_minor": 5
}
