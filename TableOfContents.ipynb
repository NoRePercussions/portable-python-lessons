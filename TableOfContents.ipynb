{
 "cells": [
  {
   "cell_type": "markdown",
   "id": "51668233",
   "metadata": {},
   "source": [
    "# Python Lessons\n",
    "\n",
    "## Building Houses with Minecraft and Python\n",
    "0. [Lesson 0 | The Raspberry Pi](./lessons/Lesson0.ipynb)\n",
    "1. [Lesson 1 | Introduction](./lessons/Lesson1.ipynb)\n",
    "2. [Lesson 2 | Turtles!](./lessons/Lesson2.ipynb)\n",
    "3. [Lesson 3 | Don't be Square](./lessons/Lesson3.ipynb)\n",
    "4. [Lesson 4 | Working in the Third Dimension](./lessons/Lesson4.ipynb)\n",
    "5. [Lesson 5 | More Blocks](./lessons/Lesson5.ipynb)\n",
    "6. [Lesson 6 | What If?](./lessons/Lesson6.ipynb)\n",
    "7. [Lesson 7 | It All Adds Up](./lessons/Lesson7.ipynb)\n",
    "8. [Lesson 8 | Putting it All Together](./lessons/Lesson8.ipynb)\n",
    "\n",
    "## Digging into Python and Jupyter\n",
    "These are somewhat ordered and may build on each other\n",
    " - [Ranges](./lessons/extras/ranges.ipynb)\n",
    "\n",
    "## Python resources (local)\n",
    " - The Python 3.10.7 documentation will be on your desktop\n",
    " - \n",
    " \n",
    "## Python resources (internet)\n",
    " - [Python 3.10.7 documentation](https://docs.python.org/3/)"
   ]
  }
 ],
 "metadata": {
  "kernelspec": {
   "display_name": "Python 3 (ipykernel)",
   "language": "python",
   "name": "python3"
  },
  "language_info": {
   "codemirror_mode": {
    "name": "ipython",
    "version": 3
   },
   "file_extension": ".py",
   "mimetype": "text/x-python",
   "name": "python",
   "nbconvert_exporter": "python",
   "pygments_lexer": "ipython3",
   "version": "3.9.13"
  }
 },
 "nbformat": 4,
 "nbformat_minor": 5
}
